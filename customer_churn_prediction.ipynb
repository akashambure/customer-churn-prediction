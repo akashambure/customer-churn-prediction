{
 "cells": [
  {
   "cell_type": "markdown",
   "id": "23d89d98",
   "metadata": {},
   "source": [
    "____\n",
    "# RetainAI: Leveraging ML to Boost Customer Retention\n",
    "___"
   ]
  },
  {
   "cell_type": "markdown",
   "id": "40578c9f",
   "metadata": {},
   "source": [
    "## Business Problem"
   ]
  },
  {
   "cell_type": "markdown",
   "id": "baf9eb56",
   "metadata": {},
   "source": [
    "A telecom company is facing the issue of customer churn, which is negatively impacting their revenue and growth. They need to understand the factors contributing to churn and build a predictive model to identify high-risk customers, so they can take proactive steps to improve retention."
   ]
  },
  {
   "cell_type": "markdown",
   "id": "dacddfbb",
   "metadata": {},
   "source": [
    "## Objective"
   ]
  },
  {
   "cell_type": "markdown",
   "id": "edd9c964",
   "metadata": {},
   "source": [
    "The objective of this data science project is to:\n",
    "1. Perform exploratory data analysis (EDA) to extract insights about churn from the dataset\n",
    "2. Split the data into train/test sets and build a predictive model to forecast which customers are likely to churn \n",
    "3. Establish metrics to evaluate the model's performance\n",
    "4. Discuss potential issues with deploying the churn prediction model into production"
   ]
  },
  {
   "cell_type": "markdown",
   "id": "0ff400fa",
   "metadata": {},
   "source": [
    "## About the Dataset"
   ]
  },
  {
   "cell_type": "markdown",
   "id": "a53adff0",
   "metadata": {},
   "source": [
    "The dataset `Data_Science_Challenge.csv` contains information about the telecom company's customers, including:\n",
    "\n",
    "\\- Demographic data like state, area code, phone number\n",
    "\n",
    "\\- Account information like account length, international plan, voicemail plan\n",
    "\n",
    "\\- Usage metrics like total day/evening/night minutes and calls\n",
    "\n",
    "\\- Churn indicator (whether the customer churned or not)"
   ]
  },
  {
   "cell_type": "markdown",
   "id": "21c6ae3c-fe2a-4616-91ea-0443e95ecc7e",
   "metadata": {},
   "source": [
    "_________"
   ]
  },
  {
   "cell_type": "markdown",
   "id": "b8d254ee",
   "metadata": {},
   "source": [
    "## Project Methodology"
   ]
  },
  {
   "cell_type": "markdown",
   "id": "c466acb5",
   "metadata": {},
   "source": [
    "### 1. Exploratory Data Analysis: \n",
    "\n",
    "\\- Analyze variables' distributions, outliers, missing values\n",
    "\n",
    "\\- Visualize relationships between features and the churn indicator\n",
    "\n",
    "\\- Extract insights to help feature selection and engineering"
   ]
  },
  {
   "cell_type": "markdown",
   "id": "8604a4bb",
   "metadata": {},
   "source": [
    "### 2. Data Preprocessing: \n",
    "\n",
    "\\- Handle missing values, encode categorical variables, normalize numerical features\n",
    "\n",
    "\\- Use techniques like undersampling to create a balanced dataset for modeling"
   ]
  },
  {
   "cell_type": "markdown",
   "id": "0dbafac9",
   "metadata": {},
   "source": [
    "### 3. Feature Selection & Engineering:\n",
    "\n",
    "\\- Select most predictive features based on EDA insights and domain knowledge\n",
    "\n",
    "\\- Engineer new features as needed (e.g. usage ratios, account age buckets)"
   ]
  },
  {
   "cell_type": "markdown",
   "id": "76f582ea",
   "metadata": {},
   "source": [
    "### 4. Model Building & Evaluation\n",
    "\n",
    "\\- Split data into train/test sets (e.g. 80/20 split)\n",
    "\n",
    "\\- Train models like logistic regression, decision trees, random forest\n",
    "\n",
    "\\- Use metrics like accuracy, precision, recall, F1-score, AUC to evaluate performance\n",
    "\n",
    "\\- Perform hyperparameter tuning and cross-validation to optimize models"
   ]
  },
  {
   "cell_type": "markdown",
   "id": "7ea266f9",
   "metadata": {},
   "source": [
    "### 5. Model Deployment Considerations:\n",
    "\n",
    "\\- Ensure model can handle new, unseen data (data drift)\n",
    "\n",
    "\\- Set up regular retraining pipeline as new data comes in\n",
    "\n",
    "\\- Monitor model performance in production using business metrics like churn rate\n",
    "\n",
    "\\- Consider model explainability needs for business users and regulators"
   ]
  },
  {
   "cell_type": "markdown",
   "id": "19a241a0",
   "metadata": {},
   "source": [
    "By leveraging machine learning techniques, this project aims to build an effective churn prediction model that the telecom company can use to proactively engage high-risk customers and improve retention."
   ]
  },
  {
   "cell_type": "markdown",
   "id": "16e109be",
   "metadata": {},
   "source": [
    "_______"
   ]
  },
  {
   "cell_type": "code",
   "execution_count": 1,
   "id": "dfcca901",
   "metadata": {},
   "outputs": [],
   "source": [
    "# importing libraries\n",
    "\n",
    "import numpy as np\n",
    "import pandas as pd\n",
    "import matplotlib.pyplot as plt\n",
    "import seaborn as sns\n",
    "\n",
    "import warnings\n",
    "warnings.filterwarnings('ignore')"
   ]
  },
  {
   "cell_type": "markdown",
   "id": "9ee2505e",
   "metadata": {},
   "source": [
    "## Overview of dataset"
   ]
  },
  {
   "cell_type": "code",
   "execution_count": 2,
   "id": "cd36036b",
   "metadata": {},
   "outputs": [
    {
     "data": {
      "text/html": [
       "<div>\n",
       "<style scoped>\n",
       "    .dataframe tbody tr th:only-of-type {\n",
       "        vertical-align: middle;\n",
       "    }\n",
       "\n",
       "    .dataframe tbody tr th {\n",
       "        vertical-align: top;\n",
       "    }\n",
       "\n",
       "    .dataframe thead th {\n",
       "        text-align: right;\n",
       "    }\n",
       "</style>\n",
       "<table border=\"1\" class=\"dataframe\">\n",
       "  <thead>\n",
       "    <tr style=\"text-align: right;\">\n",
       "      <th></th>\n",
       "      <th>state</th>\n",
       "      <th>account length</th>\n",
       "      <th>area code</th>\n",
       "      <th>phone number</th>\n",
       "      <th>international plan</th>\n",
       "      <th>voice mail plan</th>\n",
       "      <th>number vmail messages</th>\n",
       "      <th>total day minutes</th>\n",
       "      <th>total day calls</th>\n",
       "      <th>total day charge</th>\n",
       "      <th>...</th>\n",
       "      <th>total eve calls</th>\n",
       "      <th>total eve charge</th>\n",
       "      <th>total night minutes</th>\n",
       "      <th>total night calls</th>\n",
       "      <th>total night charge</th>\n",
       "      <th>total intl minutes</th>\n",
       "      <th>total intl calls</th>\n",
       "      <th>total intl charge</th>\n",
       "      <th>customer service calls</th>\n",
       "      <th>churn</th>\n",
       "    </tr>\n",
       "  </thead>\n",
       "  <tbody>\n",
       "    <tr>\n",
       "      <th>0</th>\n",
       "      <td>KS</td>\n",
       "      <td>128</td>\n",
       "      <td>415</td>\n",
       "      <td>382-4657</td>\n",
       "      <td>no</td>\n",
       "      <td>yes</td>\n",
       "      <td>25</td>\n",
       "      <td>265.1</td>\n",
       "      <td>110</td>\n",
       "      <td>45.07</td>\n",
       "      <td>...</td>\n",
       "      <td>99</td>\n",
       "      <td>16.78</td>\n",
       "      <td>244.7</td>\n",
       "      <td>91</td>\n",
       "      <td>11.01</td>\n",
       "      <td>10.0</td>\n",
       "      <td>3</td>\n",
       "      <td>2.70</td>\n",
       "      <td>1</td>\n",
       "      <td>False</td>\n",
       "    </tr>\n",
       "    <tr>\n",
       "      <th>1</th>\n",
       "      <td>OH</td>\n",
       "      <td>107</td>\n",
       "      <td>415</td>\n",
       "      <td>371-7191</td>\n",
       "      <td>no</td>\n",
       "      <td>yes</td>\n",
       "      <td>26</td>\n",
       "      <td>161.6</td>\n",
       "      <td>123</td>\n",
       "      <td>27.47</td>\n",
       "      <td>...</td>\n",
       "      <td>103</td>\n",
       "      <td>16.62</td>\n",
       "      <td>254.4</td>\n",
       "      <td>103</td>\n",
       "      <td>11.45</td>\n",
       "      <td>13.7</td>\n",
       "      <td>3</td>\n",
       "      <td>3.70</td>\n",
       "      <td>1</td>\n",
       "      <td>False</td>\n",
       "    </tr>\n",
       "    <tr>\n",
       "      <th>2</th>\n",
       "      <td>NJ</td>\n",
       "      <td>137</td>\n",
       "      <td>415</td>\n",
       "      <td>358-1921</td>\n",
       "      <td>no</td>\n",
       "      <td>no</td>\n",
       "      <td>0</td>\n",
       "      <td>243.4</td>\n",
       "      <td>114</td>\n",
       "      <td>41.38</td>\n",
       "      <td>...</td>\n",
       "      <td>110</td>\n",
       "      <td>10.30</td>\n",
       "      <td>162.6</td>\n",
       "      <td>104</td>\n",
       "      <td>7.32</td>\n",
       "      <td>12.2</td>\n",
       "      <td>5</td>\n",
       "      <td>3.29</td>\n",
       "      <td>0</td>\n",
       "      <td>False</td>\n",
       "    </tr>\n",
       "    <tr>\n",
       "      <th>3</th>\n",
       "      <td>OH</td>\n",
       "      <td>84</td>\n",
       "      <td>408</td>\n",
       "      <td>375-9999</td>\n",
       "      <td>yes</td>\n",
       "      <td>no</td>\n",
       "      <td>0</td>\n",
       "      <td>299.4</td>\n",
       "      <td>71</td>\n",
       "      <td>50.90</td>\n",
       "      <td>...</td>\n",
       "      <td>88</td>\n",
       "      <td>5.26</td>\n",
       "      <td>196.9</td>\n",
       "      <td>89</td>\n",
       "      <td>8.86</td>\n",
       "      <td>6.6</td>\n",
       "      <td>7</td>\n",
       "      <td>1.78</td>\n",
       "      <td>2</td>\n",
       "      <td>False</td>\n",
       "    </tr>\n",
       "    <tr>\n",
       "      <th>4</th>\n",
       "      <td>OK</td>\n",
       "      <td>75</td>\n",
       "      <td>415</td>\n",
       "      <td>330-6626</td>\n",
       "      <td>yes</td>\n",
       "      <td>no</td>\n",
       "      <td>0</td>\n",
       "      <td>166.7</td>\n",
       "      <td>113</td>\n",
       "      <td>28.34</td>\n",
       "      <td>...</td>\n",
       "      <td>122</td>\n",
       "      <td>12.61</td>\n",
       "      <td>186.9</td>\n",
       "      <td>121</td>\n",
       "      <td>8.41</td>\n",
       "      <td>10.1</td>\n",
       "      <td>3</td>\n",
       "      <td>2.73</td>\n",
       "      <td>3</td>\n",
       "      <td>False</td>\n",
       "    </tr>\n",
       "  </tbody>\n",
       "</table>\n",
       "<p>5 rows × 21 columns</p>\n",
       "</div>"
      ],
      "text/plain": [
       "  state  account length  area code phone number international plan  \\\n",
       "0    KS             128        415     382-4657                 no   \n",
       "1    OH             107        415     371-7191                 no   \n",
       "2    NJ             137        415     358-1921                 no   \n",
       "3    OH              84        408     375-9999                yes   \n",
       "4    OK              75        415     330-6626                yes   \n",
       "\n",
       "  voice mail plan  number vmail messages  total day minutes  total day calls  \\\n",
       "0             yes                     25              265.1              110   \n",
       "1             yes                     26              161.6              123   \n",
       "2              no                      0              243.4              114   \n",
       "3              no                      0              299.4               71   \n",
       "4              no                      0              166.7              113   \n",
       "\n",
       "   total day charge  ...  total eve calls  total eve charge  \\\n",
       "0             45.07  ...               99             16.78   \n",
       "1             27.47  ...              103             16.62   \n",
       "2             41.38  ...              110             10.30   \n",
       "3             50.90  ...               88              5.26   \n",
       "4             28.34  ...              122             12.61   \n",
       "\n",
       "   total night minutes  total night calls  total night charge  \\\n",
       "0                244.7                 91               11.01   \n",
       "1                254.4                103               11.45   \n",
       "2                162.6                104                7.32   \n",
       "3                196.9                 89                8.86   \n",
       "4                186.9                121                8.41   \n",
       "\n",
       "   total intl minutes  total intl calls  total intl charge  \\\n",
       "0                10.0                 3               2.70   \n",
       "1                13.7                 3               3.70   \n",
       "2                12.2                 5               3.29   \n",
       "3                 6.6                 7               1.78   \n",
       "4                10.1                 3               2.73   \n",
       "\n",
       "   customer service calls  churn  \n",
       "0                       1  False  \n",
       "1                       1  False  \n",
       "2                       0  False  \n",
       "3                       2  False  \n",
       "4                       3  False  \n",
       "\n",
       "[5 rows x 21 columns]"
      ]
     },
     "execution_count": 2,
     "metadata": {},
     "output_type": "execute_result"
    }
   ],
   "source": [
    "df = pd.read_csv('Data_Science_Challenge.csv') # loading dataset\n",
    "\n",
    "df.head() # birdview of dataset"
   ]
  },
  {
   "cell_type": "code",
   "execution_count": 3,
   "id": "ae52505d",
   "metadata": {},
   "outputs": [
    {
     "data": {
      "text/plain": [
       "(3333, 21)"
      ]
     },
     "execution_count": 3,
     "metadata": {},
     "output_type": "execute_result"
    }
   ],
   "source": [
    "df.shape # no. of rows & columns"
   ]
  },
  {
   "cell_type": "code",
   "execution_count": 4,
   "id": "7f6a7672",
   "metadata": {},
   "outputs": [
    {
     "name": "stdout",
     "output_type": "stream",
     "text": [
      "<class 'pandas.core.frame.DataFrame'>\n",
      "RangeIndex: 3333 entries, 0 to 3332\n",
      "Data columns (total 21 columns):\n",
      " #   Column                  Non-Null Count  Dtype  \n",
      "---  ------                  --------------  -----  \n",
      " 0   state                   3333 non-null   object \n",
      " 1   account length          3333 non-null   int64  \n",
      " 2   area code               3333 non-null   int64  \n",
      " 3   phone number            3333 non-null   object \n",
      " 4   international plan      3333 non-null   object \n",
      " 5   voice mail plan         3333 non-null   object \n",
      " 6   number vmail messages   3333 non-null   int64  \n",
      " 7   total day minutes       3333 non-null   float64\n",
      " 8   total day calls         3333 non-null   int64  \n",
      " 9   total day charge        3333 non-null   float64\n",
      " 10  total eve minutes       3333 non-null   float64\n",
      " 11  total eve calls         3333 non-null   int64  \n",
      " 12  total eve charge        3333 non-null   float64\n",
      " 13  total night minutes     3333 non-null   float64\n",
      " 14  total night calls       3333 non-null   int64  \n",
      " 15  total night charge      3333 non-null   float64\n",
      " 16  total intl minutes      3333 non-null   float64\n",
      " 17  total intl calls        3333 non-null   int64  \n",
      " 18  total intl charge       3333 non-null   float64\n",
      " 19  customer service calls  3333 non-null   int64  \n",
      " 20  churn                   3333 non-null   bool   \n",
      "dtypes: bool(1), float64(8), int64(8), object(4)\n",
      "memory usage: 524.2+ KB\n"
     ]
    }
   ],
   "source": [
    "df.info() # basic info"
   ]
  },
  {
   "cell_type": "code",
   "execution_count": 5,
   "id": "0aa60d44",
   "metadata": {},
   "outputs": [
    {
     "data": {
      "text/plain": [
       "state                     0\n",
       "account length            0\n",
       "area code                 0\n",
       "phone number              0\n",
       "international plan        0\n",
       "voice mail plan           0\n",
       "number vmail messages     0\n",
       "total day minutes         0\n",
       "total day calls           0\n",
       "total day charge          0\n",
       "total eve minutes         0\n",
       "total eve calls           0\n",
       "total eve charge          0\n",
       "total night minutes       0\n",
       "total night calls         0\n",
       "total night charge        0\n",
       "total intl minutes        0\n",
       "total intl calls          0\n",
       "total intl charge         0\n",
       "customer service calls    0\n",
       "churn                     0\n",
       "dtype: int64"
      ]
     },
     "execution_count": 5,
     "metadata": {},
     "output_type": "execute_result"
    }
   ],
   "source": [
    "df.isnull().sum() # null values"
   ]
  },
  {
   "cell_type": "code",
   "execution_count": 6,
   "id": "baa64469",
   "metadata": {},
   "outputs": [
    {
     "data": {
      "text/plain": [
       "0"
      ]
     },
     "execution_count": 6,
     "metadata": {},
     "output_type": "execute_result"
    }
   ],
   "source": [
    "df.duplicated().sum() # duplicate values"
   ]
  },
  {
   "cell_type": "markdown",
   "id": "857c47a2",
   "metadata": {},
   "source": [
    "## EDA"
   ]
  },
  {
   "cell_type": "markdown",
   "id": "28843f95",
   "metadata": {},
   "source": [
    "_________\n",
    "\\- We don't need phone number column, because it doesn matter, customer has what type of phone number.\n",
    "So, lets remove it permentatly.\n",
    "_________"
   ]
  },
  {
   "cell_type": "code",
   "execution_count": 7,
   "id": "704fc64d",
   "metadata": {},
   "outputs": [],
   "source": [
    "df.drop(columns = ['phone number'], inplace = True)"
   ]
  },
  {
   "cell_type": "markdown",
   "id": "aa781a13",
   "metadata": {},
   "source": [
    "__________\n",
    "\\- We are going to analyse each column throughly, to see if its important for modelling. \n",
    "_________\n",
    "\\- We will also try to understand the data in this process.\n",
    "_________"
   ]
  },
  {
   "cell_type": "markdown",
   "id": "85b86534",
   "metadata": {},
   "source": [
    "**state**"
   ]
  },
  {
   "cell_type": "code",
   "execution_count": 8,
   "id": "2a40bffc",
   "metadata": {},
   "outputs": [
    {
     "data": {
      "text/plain": [
       "WV    106\n",
       "MN     84\n",
       "NY     83\n",
       "AL     80\n",
       "WI     78\n",
       "OH     78\n",
       "OR     78\n",
       "WY     77\n",
       "VA     77\n",
       "CT     74\n",
       "MI     73\n",
       "ID     73\n",
       "VT     73\n",
       "TX     72\n",
       "UT     72\n",
       "IN     71\n",
       "MD     70\n",
       "KS     70\n",
       "NC     68\n",
       "NJ     68\n",
       "MT     68\n",
       "CO     66\n",
       "NV     66\n",
       "WA     66\n",
       "RI     65\n",
       "MA     65\n",
       "MS     65\n",
       "AZ     64\n",
       "FL     63\n",
       "MO     63\n",
       "NM     62\n",
       "ME     62\n",
       "ND     62\n",
       "NE     61\n",
       "OK     61\n",
       "DE     61\n",
       "SC     60\n",
       "SD     60\n",
       "KY     59\n",
       "IL     58\n",
       "NH     56\n",
       "AR     55\n",
       "GA     54\n",
       "DC     54\n",
       "HI     53\n",
       "TN     53\n",
       "AK     52\n",
       "LA     51\n",
       "PA     45\n",
       "IA     44\n",
       "CA     34\n",
       "Name: state, dtype: int64"
      ]
     },
     "execution_count": 8,
     "metadata": {},
     "output_type": "execute_result"
    }
   ],
   "source": [
    "df['state'].value_counts()"
   ]
  },
  {
   "cell_type": "code",
   "execution_count": 9,
   "id": "67f61a21",
   "metadata": {},
   "outputs": [
    {
     "data": {
      "text/plain": [
       "51"
      ]
     },
     "execution_count": 9,
     "metadata": {},
     "output_type": "execute_result"
    }
   ],
   "source": [
    "df['state'].nunique()"
   ]
  },
  {
   "cell_type": "code",
   "execution_count": 10,
   "id": "def89fbb",
   "metadata": {},
   "outputs": [
    {
     "data": {
      "image/png": "[encoded data removed]",
      "text/plain": [
       "<Figure size 1200x600 with 1 Axes>"
      ]
     },
     "metadata": {},
     "output_type": "display_data"
    }
   ],
   "source": [
    "# distribution of 'state'\n",
    "\n",
    "plt.figure(figsize = (12, 6))\n",
    "sns.countplot(data = df, x = 'state')\n",
    "plt.xticks(rotation = 'vertical')\n",
    "plt.title('\"Distribution of State\"', pad = 20);"
   ]
  },
  {
   "cell_type": "markdown",
   "id": "604a411e",
   "metadata": {},
   "source": [
    "_________\n",
    "\\- There are total 51 diffrent states.\n",
    "_________\n",
    "\\- Among which 'WV'(106) is the most common state, and the least common state is 'CA' (34).\n",
    "________\n",
    "\\- There is no clear pattern or trend in the distribution of counts across the states; the counts appear to be relatively random.\n",
    "________"
   ]
  },
  {
   "cell_type": "code",
   "execution_count": 11,
   "id": "95fb5e0f",
   "metadata": {},
   "outputs": [
    {
     "data": {
      "image/png": "[encoded data removed]",
      "text/plain": [
       "<Figure size 1200x600 with 1 Axes>"
      ]
     },
     "metadata": {},
     "output_type": "display_data"
    }
   ],
   "source": [
    "# relation with 'churn'\n",
    "\n",
    "plt.figure(figsize = (12, 6))\n",
    "sns.countplot(data = df, x = 'state', hue = 'churn')\n",
    "plt.xticks(rotation = 'vertical')\n",
    "plt.title('\"Count of Churn by State\"', pad = 20);"
   ]
  },
  {
   "cell_type": "code",
   "execution_count": 12,
   "id": "93af356b",
   "metadata": {},
   "outputs": [],
   "source": [
    "# the proportion of churn for each state\n",
    "\n",
    "crosstab_result = pd.crosstab(df['state'], df['churn'])\n",
    "\n",
    "proportion_of_churn = (crosstab_result[True] / (crosstab_result[False] + crosstab_result[True])) * 100"
   ]
  },
  {
   "cell_type": "code",
   "execution_count": 13,
   "id": "6b983548",
   "metadata": {},
   "outputs": [
    {
     "data": {
      "text/plain": [
       "state\n",
       "NJ    26.470588\n",
       "CA    26.470588\n",
       "TX    25.000000\n",
       "MD    24.285714\n",
       "SC    23.333333\n",
       "dtype: float64"
      ]
     },
     "execution_count": 13,
     "metadata": {},
     "output_type": "execute_result"
    }
   ],
   "source": [
    "proportion_of_churn.sort_values(ascending = False).head() # states with highest churn rate"
   ]
  },
  {
   "cell_type": "code",
   "execution_count": 14,
   "id": "3b824272",
   "metadata": {},
   "outputs": [
    {
     "data": {
      "text/plain": [
       "state\n",
       "IA    6.818182\n",
       "VA    6.493506\n",
       "AZ    6.250000\n",
       "AK    5.769231\n",
       "HI    5.660377\n",
       "dtype: float64"
      ]
     },
     "execution_count": 14,
     "metadata": {},
     "output_type": "execute_result"
    }
   ],
   "source": [
    "proportion_of_churn.sort_values(ascending = False).tail() # states with lowest churn rate"
   ]
  },
  {
   "cell_type": "markdown",
   "id": "7fa263f7",
   "metadata": {},
   "source": [
    "___________\n",
    "\\- The churn rates vary across states, with some states having higher churn rates and others having lower rates.\n",
    "_________\n",
    "\\- The highest churn rate appears to be around 26.50, it is of state 'NJ' & 'CA', while the lowest is close to 5.7 of state 'HI' & 'AK'.\n",
    "__________"
   ]
  },
  {
   "cell_type": "code",
   "execution_count": 15,
   "id": "112231ae",
   "metadata": {},
   "outputs": [
    {
     "data": {
      "text/plain": [
       "0.002296221552011188"
      ]
     },
     "execution_count": 15,
     "metadata": {},
     "output_type": "execute_result"
    }
   ],
   "source": [
    "# statistical test - chi-square test \n",
    "from scipy.stats import chi2_contingency\n",
    "\n",
    "# chi-square test for state and churn\n",
    "crosstab_result = pd.crosstab(df['state'], df['churn'])\n",
    "chi2, p_value, dof, expec = chi2_contingency(crosstab_result)\n",
    "p_value"
   ]
  },
  {
   "cell_type": "markdown",
   "id": "3bb36da3",
   "metadata": {},
   "source": [
    "__________\n",
    "\\- The p-value is less than 0.05, which means we reject the null hypothesis that the states and churn are independent.  \n",
    "________\n",
    "\\- Chi-square test confirms that there is a relationship between state and churn.  \n",
    "________"
   ]
  },
  {
   "cell_type": "markdown",
   "id": "30401f34",
   "metadata": {},
   "source": [
    "**international plan**"
   ]
  },
  {
   "cell_type": "code",
   "execution_count": 16,
   "id": "94b8c9cc",
   "metadata": {},
   "outputs": [
    {
     "data": {
      "text/plain": [
       "no     3010\n",
       "yes     323\n",
       "Name: international plan, dtype: int64"
      ]
     },
     "execution_count": 16,
     "metadata": {},
     "output_type": "execute_result"
    }
   ],
   "source": [
    "df['international plan'].value_counts()"
   ]
  },
  {
   "cell_type": "code",
   "execution_count": 17,
   "id": "0f6e5fec",
   "metadata": {},
   "outputs": [
    {
     "data": {
      "image/png": "[encoded data removed]",
      "text/plain": [
       "<Figure size 640x480 with 1 Axes>"
      ]
     },
     "metadata": {},
     "output_type": "display_data"
    }
   ],
   "source": [
    "df['international plan'].value_counts().plot(kind = 'pie');"
   ]
  },
  {
   "cell_type": "markdown",
   "id": "5fac0370",
   "metadata": {},
   "source": [
    "________\n",
    "\\- Outof 3333 records only few (323) have internation plan. But does this have relationship with churn ?\n",
    "_______"
   ]
  },
  {
   "cell_type": "code",
   "execution_count": 18,
   "id": "a5cc20d6",
   "metadata": {},
   "outputs": [
    {
     "data": {
      "image/png": "[encoded data removed]",
      "text/plain": [
       "<Figure size 1200x600 with 1 Axes>"
      ]
     },
     "metadata": {},
     "output_type": "display_data"
    }
   ],
   "source": [
    "# Bivariate analysis of international plan with churn feature\n",
    "\n",
    "plt.figure(figsize =(12, 6))\n",
    "sns.barplot(data = df, x = 'international plan', y = 'churn', errorbar = None)\n",
    "plt.xticks(rotation = 'vertical');"
   ]
  },
  {
   "cell_type": "markdown",
   "id": "0c43fd07",
   "metadata": {},
   "source": [
    "_________\n",
    "\\- The people who have international plan are about to churn more. \n",
    "________\n",
    "\\- This could be the reason to churn. \n",
    "________"
   ]
  },
  {
   "cell_type": "markdown",
   "id": "e1826a12",
   "metadata": {},
   "source": [
    "**area code**"
   ]
  },
  {
   "cell_type": "code",
   "execution_count": 19,
   "id": "e126af79",
   "metadata": {},
   "outputs": [
    {
     "data": {
      "text/plain": [
       "415    1655\n",
       "510     840\n",
       "408     838\n",
       "Name: area code, dtype: int64"
      ]
     },
     "execution_count": 19,
     "metadata": {},
     "output_type": "execute_result"
    }
   ],
   "source": [
    "df['area code'].value_counts()"
   ]
  },
  {
   "cell_type": "markdown",
   "id": "744af94d",
   "metadata": {},
   "source": [
    "______\n",
    "\\- We have three unique area code. Let see how they are related to churn.\n",
    "________"
   ]
  },
  {
   "cell_type": "code",
   "execution_count": 20,
   "id": "7b05bb6a",
   "metadata": {},
   "outputs": [
    {
     "data": {
      "image/png": "[encoded data removed]",
      "text/plain": [
       "<Figure size 1200x600 with 1 Axes>"
      ]
     },
     "metadata": {},
     "output_type": "display_data"
    }
   ],
   "source": [
    "# Bivariate analysis of state with churn feature\n",
    "\n",
    "plt.figure(figsize = (12, 6))\n",
    "sns.barplot(data = df, x = 'area code', y = 'churn', errorbar = None)\n",
    "plt.xticks(rotation = 'vertical');"
   ]
  },
  {
   "cell_type": "markdown",
   "id": "eb714646",
   "metadata": {},
   "source": [
    "_______\n",
    "\\- As we can see the area code has nothing to with if he or she is going to churn. Lets remove this feature. \n",
    "_______\n",
    "\\- This feature is not important.\n",
    "_______\n",
    "\\- Lets apply chi square test to assert our conclusion.\n",
    "_______"
   ]
  },
  {
   "cell_type": "code",
   "execution_count": 21,
   "id": "95a24ff9",
   "metadata": {},
   "outputs": [
    {
     "data": {
      "text/plain": [
       "0.9150556960243712"
      ]
     },
     "execution_count": 21,
     "metadata": {},
     "output_type": "execute_result"
    }
   ],
   "source": [
    "# statistical test - chi-square test\n",
    "from scipy.stats import chi2_contingency\n",
    "\n",
    "# chi-square test for area code and churn\n",
    "crosstab_result = pd.crosstab(df['area code'], df['churn'])\n",
    "chi2, p_value, dof, expec = chi2_contingency(crosstab_result)\n",
    "p_value"
   ]
  },
  {
   "cell_type": "markdown",
   "id": "a14ee20d",
   "metadata": {},
   "source": [
    "________\n",
    "\\- The p-value is greater than 0.05, which means we fail to reject the null hypothesis that the states and churn are independent.\n",
    "_______\n",
    "\\- Chi-square test confirms that area code and churn column are independent means no relation.\n",
    "______"
   ]
  },
  {
   "cell_type": "code",
   "execution_count": 22,
   "id": "e1902fe5",
   "metadata": {},
   "outputs": [],
   "source": [
    "df.drop(columns = ['area code'], inplace = True) "
   ]
  },
  {
   "cell_type": "markdown",
   "id": "93fcf0ed",
   "metadata": {},
   "source": [
    "________"
   ]
  },
  {
   "cell_type": "markdown",
   "id": "0d77bff0",
   "metadata": {},
   "source": [
    "**account length**"
   ]
  },
  {
   "cell_type": "code",
   "execution_count": 23,
   "id": "1aeaf73a",
   "metadata": {},
   "outputs": [
    {
     "data": {
      "image/png": "[encoded data removed]",
      "text/plain": [
       "<Figure size 640x480 with 1 Axes>"
      ]
     },
     "metadata": {},
     "output_type": "display_data"
    }
   ],
   "source": [
    "sns.kdeplot(df['account length'], fill = True)\n",
    "plt.title('\"Distribution of Length\"');"
   ]
  },
  {
   "cell_type": "markdown",
   "id": "6daff29e",
   "metadata": {},
   "source": [
    "__________\n",
    "\\- 'account lenght' feature is normally distributed, this mean most of the customer are between 50 to 150 days.\n",
    "_________"
   ]
  },
  {
   "cell_type": "code",
   "execution_count": 24,
   "id": "9b6d4d65",
   "metadata": {},
   "outputs": [
    {
     "data": {
      "text/html": [
       "<div>\n",
       "<style scoped>\n",
       "    .dataframe tbody tr th:only-of-type {\n",
       "        vertical-align: middle;\n",
       "    }\n",
       "\n",
       "    .dataframe tbody tr th {\n",
       "        vertical-align: top;\n",
       "    }\n",
       "\n",
       "    .dataframe thead th {\n",
       "        text-align: right;\n",
       "    }\n",
       "</style>\n",
       "<table border=\"1\" class=\"dataframe\">\n",
       "  <thead>\n",
       "    <tr style=\"text-align: right;\">\n",
       "      <th></th>\n",
       "      <th>count</th>\n",
       "      <th>mean</th>\n",
       "      <th>std</th>\n",
       "      <th>min</th>\n",
       "      <th>25%</th>\n",
       "      <th>50%</th>\n",
       "      <th>75%</th>\n",
       "      <th>max</th>\n",
       "    </tr>\n",
       "    <tr>\n",
       "      <th>churn</th>\n",
       "      <th></th>\n",
       "      <th></th>\n",
       "      <th></th>\n",
       "      <th></th>\n",
       "      <th></th>\n",
       "      <th></th>\n",
       "      <th></th>\n",
       "      <th></th>\n",
       "    </tr>\n",
       "  </thead>\n",
       "  <tbody>\n",
       "    <tr>\n",
       "      <th>False</th>\n",
       "      <td>2850.0</td>\n",
       "      <td>100.793684</td>\n",
       "      <td>39.88235</td>\n",
       "      <td>1.0</td>\n",
       "      <td>73.0</td>\n",
       "      <td>100.0</td>\n",
       "      <td>127.0</td>\n",
       "      <td>243.0</td>\n",
       "    </tr>\n",
       "    <tr>\n",
       "      <th>True</th>\n",
       "      <td>483.0</td>\n",
       "      <td>102.664596</td>\n",
       "      <td>39.46782</td>\n",
       "      <td>1.0</td>\n",
       "      <td>76.0</td>\n",
       "      <td>103.0</td>\n",
       "      <td>127.0</td>\n",
       "      <td>225.0</td>\n",
       "    </tr>\n",
       "  </tbody>\n",
       "</table>\n",
       "</div>"
      ],
      "text/plain": [
       "        count        mean       std  min   25%    50%    75%    max\n",
       "churn                                                              \n",
       "False  2850.0  100.793684  39.88235  1.0  73.0  100.0  127.0  243.0\n",
       "True    483.0  102.664596  39.46782  1.0  76.0  103.0  127.0  225.0"
      ]
     },
     "execution_count": 24,
     "metadata": {},
     "output_type": "execute_result"
    }
   ],
   "source": [
    "df.groupby('churn')['account length'].describe()"
   ]
  },
  {
   "cell_type": "markdown",
   "id": "3426c7e8",
   "metadata": {},
   "source": [
    "___________\n",
    "\\- We can see that the average account length of people who churn is slightly less than those who don't churn.  \n",
    "___________\n",
    "\\- The standard deviation shows that there is very little variation in account length between the two groups. \n",
    "___________\n",
    "\\- Hence, 'account length' does not have significant impact on churn.  \n",
    "___________"
   ]
  },
  {
   "cell_type": "code",
   "execution_count": 25,
   "id": "0501e471",
   "metadata": {},
   "outputs": [],
   "source": [
    "from scipy.stats import f_oneway\n",
    "\n",
    "def one_way_anova_for_churn(feature):\n",
    "    \"\"\"\n",
    "    Perform one-way ANOVA to test the relationship between a numerical feature and churn.\n",
    "    \n",
    "    Parameters:\n",
    "    df (pd.DataFrame): The DataFrame containing the data.\n",
    "    feature (str): The name of the numerical feature to test.\n",
    "    \n",
    "    Returns:\n",
    "    str: 'Has Relation' if the p-value is <= 0.05, otherwise 'No Relation'.\n",
    "    \"\"\"\n",
    "    # Create groups based on the 'churn' feature\n",
    "    group_false = df[df['churn'] == False][feature]\n",
    "    group_true = df[df['churn'] == True][feature]\n",
    "    \n",
    "    # Perform the one-way ANOVA\n",
    "    f_stat, p_value = f_oneway(group_false, group_true)\n",
    "    \n",
    "    # Return results\n",
    "    if p_value <= 0.05:\n",
    "        return 'Has Relation'\n",
    "    return 'No Relation'"
   ]
  },
  {
   "cell_type": "code",
   "execution_count": 26,
   "id": "dfe87c3e",
   "metadata": {},
   "outputs": [
    {
     "data": {
      "text/plain": [
       "'No Relation'"
      ]
     },
     "execution_count": 26,
     "metadata": {},
     "output_type": "execute_result"
    }
   ],
   "source": [
    "# One way anova to see relation with churn\n",
    "one_way_anova_for_churn('account length')"
   ]
  },
  {
   "cell_type": "code",
   "execution_count": 27,
   "id": "55f0c15e",
   "metadata": {},
   "outputs": [
    {
     "data": {
      "image/png": "[encoded data removed]",
      "text/plain": [
       "<Figure size 640x480 with 1 Axes>"
      ]
     },
     "metadata": {},
     "output_type": "display_data"
    }
   ],
   "source": [
    "# relation of 'account lenght' feature with churn\n",
    "sns.boxplot(data = df, x = 'churn', y = 'account length');"
   ]
  },
  {
   "cell_type": "markdown",
   "id": "aef014f1",
   "metadata": {},
   "source": [
    "______\n",
    "\\- There is very liitle variation based upon churn. Very little correlation.\n",
    "_____"
   ]
  },
  {
   "cell_type": "code",
   "execution_count": 28,
   "id": "875a5f49",
   "metadata": {},
   "outputs": [
    {
     "data": {
      "text/plain": [
       "1.6540742243674176"
      ]
     },
     "execution_count": 28,
     "metadata": {},
     "output_type": "execute_result"
    }
   ],
   "source": [
    "df.corr()['churn'].loc['account length'] * 100"
   ]
  },
  {
   "cell_type": "markdown",
   "id": "25e1467c",
   "metadata": {},
   "source": [
    "_______\n",
    "\\- Lets check similar column which has very low correlation with 'churn'\n",
    "_______"
   ]
  },
  {
   "cell_type": "code",
   "execution_count": 29,
   "id": "453c9b59",
   "metadata": {},
   "outputs": [
    {
     "data": {
      "text/plain": [
       "account length              1.654074\n",
       "number vmail messages      -8.972797\n",
       "total day minutes          20.515083\n",
       "total day calls             1.845931\n",
       "total day charge           20.515074\n",
       "total eve minutes           9.279579\n",
       "total eve calls             0.923313\n",
       "total eve charge            9.278604\n",
       "total night minutes         3.549285\n",
       "total night calls           0.614120\n",
       "total night charge          3.549556\n",
       "total intl minutes          6.823878\n",
       "total intl calls           -5.284434\n",
       "total intl charge           6.825863\n",
       "customer service calls     20.875000\n",
       "churn                     100.000000\n",
       "Name: churn, dtype: float64"
      ]
     },
     "execution_count": 29,
     "metadata": {},
     "output_type": "execute_result"
    }
   ],
   "source": [
    "df.corr()['churn'] * 100"
   ]
  },
  {
   "cell_type": "markdown",
   "id": "e5818c60",
   "metadata": {},
   "source": [
    "_______\n",
    "\\- There are some column which has very low influence over churn, like account length (1.65%), total eve calls (0.92%), total night calls (0.61%). \n",
    "______"
   ]
  },
  {
   "cell_type": "markdown",
   "id": "c8e70267",
   "metadata": {},
   "source": [
    "\\- Lets see for other columns"
   ]
  },
  {
   "cell_type": "code",
   "execution_count": 30,
   "id": "324b6f14",
   "metadata": {},
   "outputs": [
    {
     "name": "stdout",
     "output_type": "stream",
     "text": [
      "Feature: account length, Result: No Relation\n",
      "Feature: number vmail messages, Result: Has Relation\n",
      "Feature: total day minutes, Result: Has Relation\n",
      "Feature: total day calls, Result: No Relation\n",
      "Feature: total day charge, Result: Has Relation\n",
      "Feature: total eve minutes, Result: Has Relation\n",
      "Feature: total eve calls, Result: No Relation\n",
      "Feature: total eve charge, Result: Has Relation\n",
      "Feature: total night minutes, Result: Has Relation\n",
      "Feature: total night calls, Result: No Relation\n",
      "Feature: total night charge, Result: Has Relation\n",
      "Feature: total intl minutes, Result: Has Relation\n",
      "Feature: total intl calls, Result: Has Relation\n",
      "Feature: total intl charge, Result: Has Relation\n",
      "Feature: customer service calls, Result: Has Relation\n"
     ]
    }
   ],
   "source": [
    "columns = list(df.columns)\n",
    "columns.remove('churn')\n",
    "\n",
    "columns_to_remove = []\n",
    "\n",
    "# Iterate over the columns and apply the one-way ANOVA function to numerical columns\n",
    "for column in columns:\n",
    "    if df[column].dtype != 'O':\n",
    "        result = one_way_anova_for_churn(column)\n",
    "        print(f\"Feature: {column}, Result: {result}\")\n",
    "        \n",
    "        if result == 'No Relation':\n",
    "            columns_to_remove.append(column)"
   ]
  },
  {
   "cell_type": "code",
   "execution_count": 31,
   "id": "18161891",
   "metadata": {},
   "outputs": [],
   "source": [
    "# Removing columns which column result came 'No Relation'\n",
    "\n",
    "df.drop(columns = columns_to_remove, inplace = True)"
   ]
  },
  {
   "cell_type": "code",
   "execution_count": 32,
   "id": "143b7132",
   "metadata": {},
   "outputs": [
    {
     "data": {
      "text/html": [
       "<div>\n",
       "<style scoped>\n",
       "    .dataframe tbody tr th:only-of-type {\n",
       "        vertical-align: middle;\n",
       "    }\n",
       "\n",
       "    .dataframe tbody tr th {\n",
       "        vertical-align: top;\n",
       "    }\n",
       "\n",
       "    .dataframe thead th {\n",
       "        text-align: right;\n",
       "    }\n",
       "</style>\n",
       "<table border=\"1\" class=\"dataframe\">\n",
       "  <thead>\n",
       "    <tr style=\"text-align: right;\">\n",
       "      <th></th>\n",
       "      <th>state</th>\n",
       "      <th>international plan</th>\n",
       "      <th>voice mail plan</th>\n",
       "      <th>number vmail messages</th>\n",
       "      <th>total day minutes</th>\n",
       "      <th>total day charge</th>\n",
       "      <th>total eve minutes</th>\n",
       "      <th>total eve charge</th>\n",
       "      <th>total night minutes</th>\n",
       "      <th>total night charge</th>\n",
       "      <th>total intl minutes</th>\n",
       "      <th>total intl calls</th>\n",
       "      <th>total intl charge</th>\n",
       "      <th>customer service calls</th>\n",
       "      <th>churn</th>\n",
       "    </tr>\n",
       "  </thead>\n",
       "  <tbody>\n",
       "    <tr>\n",
       "      <th>0</th>\n",
       "      <td>KS</td>\n",
       "      <td>no</td>\n",
       "      <td>yes</td>\n",
       "      <td>25</td>\n",
       "      <td>265.1</td>\n",
       "      <td>45.07</td>\n",
       "      <td>197.4</td>\n",
       "      <td>16.78</td>\n",
       "      <td>244.7</td>\n",
       "      <td>11.01</td>\n",
       "      <td>10.0</td>\n",
       "      <td>3</td>\n",
       "      <td>2.70</td>\n",
       "      <td>1</td>\n",
       "      <td>False</td>\n",
       "    </tr>\n",
       "    <tr>\n",
       "      <th>1</th>\n",
       "      <td>OH</td>\n",
       "      <td>no</td>\n",
       "      <td>yes</td>\n",
       "      <td>26</td>\n",
       "      <td>161.6</td>\n",
       "      <td>27.47</td>\n",
       "      <td>195.5</td>\n",
       "      <td>16.62</td>\n",
       "      <td>254.4</td>\n",
       "      <td>11.45</td>\n",
       "      <td>13.7</td>\n",
       "      <td>3</td>\n",
       "      <td>3.70</td>\n",
       "      <td>1</td>\n",
       "      <td>False</td>\n",
       "    </tr>\n",
       "    <tr>\n",
       "      <th>2</th>\n",
       "      <td>NJ</td>\n",
       "      <td>no</td>\n",
       "      <td>no</td>\n",
       "      <td>0</td>\n",
       "      <td>243.4</td>\n",
       "      <td>41.38</td>\n",
       "      <td>121.2</td>\n",
       "      <td>10.30</td>\n",
       "      <td>162.6</td>\n",
       "      <td>7.32</td>\n",
       "      <td>12.2</td>\n",
       "      <td>5</td>\n",
       "      <td>3.29</td>\n",
       "      <td>0</td>\n",
       "      <td>False</td>\n",
       "    </tr>\n",
       "    <tr>\n",
       "      <th>3</th>\n",
       "      <td>OH</td>\n",
       "      <td>yes</td>\n",
       "      <td>no</td>\n",
       "      <td>0</td>\n",
       "      <td>299.4</td>\n",
       "      <td>50.90</td>\n",
       "      <td>61.9</td>\n",
       "      <td>5.26</td>\n",
       "      <td>196.9</td>\n",
       "      <td>8.86</td>\n",
       "      <td>6.6</td>\n",
       "      <td>7</td>\n",
       "      <td>1.78</td>\n",
       "      <td>2</td>\n",
       "      <td>False</td>\n",
       "    </tr>\n",
       "    <tr>\n",
       "      <th>4</th>\n",
       "      <td>OK</td>\n",
       "      <td>yes</td>\n",
       "      <td>no</td>\n",
       "      <td>0</td>\n",
       "      <td>166.7</td>\n",
       "      <td>28.34</td>\n",
       "      <td>148.3</td>\n",
       "      <td>12.61</td>\n",
       "      <td>186.9</td>\n",
       "      <td>8.41</td>\n",
       "      <td>10.1</td>\n",
       "      <td>3</td>\n",
       "      <td>2.73</td>\n",
       "      <td>3</td>\n",
       "      <td>False</td>\n",
       "    </tr>\n",
       "  </tbody>\n",
       "</table>\n",
       "</div>"
      ],
      "text/plain": [
       "  state international plan voice mail plan  number vmail messages  \\\n",
       "0    KS                 no             yes                     25   \n",
       "1    OH                 no             yes                     26   \n",
       "2    NJ                 no              no                      0   \n",
       "3    OH                yes              no                      0   \n",
       "4    OK                yes              no                      0   \n",
       "\n",
       "   total day minutes  total day charge  total eve minutes  total eve charge  \\\n",
       "0              265.1             45.07              197.4             16.78   \n",
       "1              161.6             27.47              195.5             16.62   \n",
       "2              243.4             41.38              121.2             10.30   \n",
       "3              299.4             50.90               61.9              5.26   \n",
       "4              166.7             28.34              148.3             12.61   \n",
       "\n",
       "   total night minutes  total night charge  total intl minutes  \\\n",
       "0                244.7               11.01                10.0   \n",
       "1                254.4               11.45                13.7   \n",
       "2                162.6                7.32                12.2   \n",
       "3                196.9                8.86                 6.6   \n",
       "4                186.9                8.41                10.1   \n",
       "\n",
       "   total intl calls  total intl charge  customer service calls  churn  \n",
       "0                 3               2.70                       1  False  \n",
       "1                 3               3.70                       1  False  \n",
       "2                 5               3.29                       0  False  \n",
       "3                 7               1.78                       2  False  \n",
       "4                 3               2.73                       3  False  "
      ]
     },
     "execution_count": 32,
     "metadata": {},
     "output_type": "execute_result"
    }
   ],
   "source": [
    "df.head()"
   ]
  },
  {
   "cell_type": "markdown",
   "id": "e0570591",
   "metadata": {},
   "source": [
    "_________"
   ]
  },
  {
   "cell_type": "markdown",
   "id": "285a015b",
   "metadata": {},
   "source": [
    "**voice mail plan**"
   ]
  },
  {
   "cell_type": "code",
   "execution_count": 33,
   "id": "27764963",
   "metadata": {},
   "outputs": [
    {
     "data": {
      "text/plain": [
       "no     2411\n",
       "yes     922\n",
       "Name: voice mail plan, dtype: int64"
      ]
     },
     "execution_count": 33,
     "metadata": {},
     "output_type": "execute_result"
    }
   ],
   "source": [
    "df['voice mail plan'].value_counts()"
   ]
  },
  {
   "cell_type": "code",
   "execution_count": 34,
   "id": "f9f19f16",
   "metadata": {},
   "outputs": [
    {
     "data": {
      "image/png": "[encoded data removed]",
      "text/plain": [
       "<Figure size 640x480 with 1 Axes>"
      ]
     },
     "metadata": {},
     "output_type": "display_data"
    }
   ],
   "source": [
    "# univariate analysis\n",
    "\n",
    "df['voice mail plan'].value_counts().plot(kind = 'bar', title = 'Voice Mail Plan', \n",
    "                                          color=['orange','green']); "
   ]
  },
  {
   "cell_type": "code",
   "execution_count": 35,
   "id": "8a18edb4",
   "metadata": {},
   "outputs": [
    {
     "data": {
      "text/html": [
       "<div>\n",
       "<style scoped>\n",
       "    .dataframe tbody tr th:only-of-type {\n",
       "        vertical-align: middle;\n",
       "    }\n",
       "\n",
       "    .dataframe tbody tr th {\n",
       "        vertical-align: top;\n",
       "    }\n",
       "\n",
       "    .dataframe thead th {\n",
       "        text-align: right;\n",
       "    }\n",
       "</style>\n",
       "<table border=\"1\" class=\"dataframe\">\n",
       "  <thead>\n",
       "    <tr style=\"text-align: right;\">\n",
       "      <th>churn</th>\n",
       "      <th>False</th>\n",
       "      <th>True</th>\n",
       "    </tr>\n",
       "    <tr>\n",
       "      <th>voice mail plan</th>\n",
       "      <th></th>\n",
       "      <th></th>\n",
       "    </tr>\n",
       "  </thead>\n",
       "  <tbody>\n",
       "    <tr>\n",
       "      <th>no</th>\n",
       "      <td>2008</td>\n",
       "      <td>403</td>\n",
       "    </tr>\n",
       "    <tr>\n",
       "      <th>yes</th>\n",
       "      <td>842</td>\n",
       "      <td>80</td>\n",
       "    </tr>\n",
       "  </tbody>\n",
       "</table>\n",
       "</div>"
      ],
      "text/plain": [
       "churn            False  True \n",
       "voice mail plan              \n",
       "no                2008    403\n",
       "yes                842     80"
      ]
     },
     "execution_count": 35,
     "metadata": {},
     "output_type": "execute_result"
    }
   ],
   "source": [
    "# bivariate analysis\n",
    "\n",
    "df.pivot_table(index = 'voice mail plan', columns = 'churn', aggfunc = 'size') "
   ]
  },
  {
   "cell_type": "code",
   "execution_count": 36,
   "id": "17ce5de9",
   "metadata": {},
   "outputs": [
    {
     "data": {
      "text/plain": [
       "16.71505599336375"
      ]
     },
     "execution_count": 36,
     "metadata": {},
     "output_type": "execute_result"
    }
   ],
   "source": [
    "(403 / 2411) * 100 # no voice call"
   ]
  },
  {
   "cell_type": "code",
   "execution_count": 37,
   "id": "5183e647",
   "metadata": {},
   "outputs": [
    {
     "data": {
      "text/plain": [
       "8.676789587852495"
      ]
     },
     "execution_count": 37,
     "metadata": {},
     "output_type": "execute_result"
    }
   ],
   "source": [
    "(80 / 922) * 100 # voice call"
   ]
  },
  {
   "cell_type": "markdown",
   "id": "702da3d6",
   "metadata": {},
   "source": [
    "______\n",
    "\\- Customers with a voice mail plan have a significantly lower churn rate (8.6%) compared to those without a voice mail plan (16.7%). \n",
    "________\n",
    "\\- This suggests that having a voice mail plan is associated with higher customer retention.\n",
    "_______"
   ]
  },
  {
   "cell_type": "code",
   "execution_count": 38,
   "id": "116b4149",
   "metadata": {},
   "outputs": [
    {
     "name": "stdout",
     "output_type": "stream",
     "text": [
      "Chi-square statistic: 34.13166001075673\n",
      "P-value: 0.0\n"
     ]
    }
   ],
   "source": [
    "# chi square test\n",
    "\n",
    "from scipy.stats import chi2_contingency\n",
    "\n",
    "# Creating the data\n",
    "data = {'Churn': ['No', 'Yes'],\n",
    "        'No Voice Mail Plan': [2008, 403],\n",
    "        'Voice Mail Plan': [842, 80]}\n",
    "df2 = pd.DataFrame(data).set_index('Churn')\n",
    "\n",
    "# Performing the chi-square test\n",
    "chi2, p_value, dof, expected = chi2_contingency(df2.T)\n",
    "\n",
    "print(\"Chi-square statistic:\", chi2)\n",
    "print(\"P-value:\", round(p_value, 3))"
   ]
  },
  {
   "cell_type": "markdown",
   "id": "713f5ecd",
   "metadata": {},
   "source": [
    "_________\n",
    "\\- the p-value is less than 0.05 (at 5% significance level), we reject the null hypothesis, supporting the claim that having a voice mail plan is associated with a lower churn rate.\n",
    "_________"
   ]
  },
  {
   "cell_type": "code",
   "execution_count": 39,
   "id": "575d61f5",
   "metadata": {},
   "outputs": [
    {
     "data": {
      "image/png": "[encoded data removed]",
      "text/plain": [
       "<Figure size 640x480 with 1 Axes>"
      ]
     },
     "metadata": {},
     "output_type": "display_data"
    }
   ],
   "source": [
    "sns.countplot(data = df, x ='voice mail plan', hue = 'churn');"
   ]
  },
  {
   "cell_type": "markdown",
   "id": "79845770",
   "metadata": {},
   "source": [
    "___________"
   ]
  },
  {
   "cell_type": "markdown",
   "id": "a77b5630",
   "metadata": {},
   "source": [
    "**number vmail messages**"
   ]
  },
  {
   "cell_type": "code",
   "execution_count": 40,
   "id": "7d0c8f6f",
   "metadata": {},
   "outputs": [
    {
     "data": {
      "text/plain": [
       "2411"
      ]
     },
     "execution_count": 40,
     "metadata": {},
     "output_type": "execute_result"
    }
   ],
   "source": [
    "df[df['number vmail messages'] == 0].shape[0]"
   ]
  },
  {
   "cell_type": "markdown",
   "id": "5de8397e",
   "metadata": {},
   "source": [
    "_________\n",
    "\\- Nearly 2411 numbers have 0 vmail messages  \n",
    "_________\n",
    "\n",
    "\\- These must be the people who dont have voice mail plan  \n",
    "_______"
   ]
  },
  {
   "cell_type": "code",
   "execution_count": 41,
   "id": "a1bc6051",
   "metadata": {},
   "outputs": [
    {
     "data": {
      "text/plain": [
       "2411"
      ]
     },
     "execution_count": 41,
     "metadata": {},
     "output_type": "execute_result"
    }
   ],
   "source": [
    "# no voice mail plan and zero vmail message\n",
    "\n",
    "df[(df['number vmail messages'] == 0) & (df['voice mail plan'] == 'no')].shape[0]"
   ]
  },
  {
   "cell_type": "code",
   "execution_count": 42,
   "id": "48f98263",
   "metadata": {},
   "outputs": [
    {
     "data": {
      "text/plain": [
       "0"
      ]
     },
     "execution_count": 42,
     "metadata": {},
     "output_type": "execute_result"
    }
   ],
   "source": [
    "# voice mail plan and zero vmail message, must be zero\n",
    "\n",
    "df[(df['number vmail messages'] == 0) & (df['voice mail plan'] == 'yes')].shape[0]"
   ]
  },
  {
   "cell_type": "code",
   "execution_count": 43,
   "id": "28924071",
   "metadata": {},
   "outputs": [
    {
     "data": {
      "text/plain": [
       "0"
      ]
     },
     "execution_count": 43,
     "metadata": {},
     "output_type": "execute_result"
    }
   ],
   "source": [
    "# no voice mail plan but have some vmail message, must be zero\n",
    "\n",
    "df[(df['number vmail messages'] != 0) & (df['voice mail plan'] == 'no')].shape[0]"
   ]
  },
  {
   "cell_type": "code",
   "execution_count": 44,
   "id": "69e72122",
   "metadata": {},
   "outputs": [
    {
     "data": {
      "text/plain": [
       "922"
      ]
     },
     "execution_count": 44,
     "metadata": {},
     "output_type": "execute_result"
    }
   ],
   "source": [
    "vmail_df = df[(df['number vmail messages'] != 0)] # numbers with vmail and non zero vmail messages\n",
    "\n",
    "vmail_df.shape[0]"
   ]
  },
  {
   "cell_type": "code",
   "execution_count": 45,
   "id": "58c2b46d",
   "metadata": {},
   "outputs": [
    {
     "data": {
      "text/plain": [
       "count    922.000000\n",
       "mean      29.277657\n",
       "std        7.559027\n",
       "min        4.000000\n",
       "25%       24.000000\n",
       "50%       29.000000\n",
       "75%       34.000000\n",
       "max       51.000000\n",
       "Name: number vmail messages, dtype: float64"
      ]
     },
     "execution_count": 45,
     "metadata": {},
     "output_type": "execute_result"
    }
   ],
   "source": [
    "vmail_df['number vmail messages'].describe()"
   ]
  },
  {
   "cell_type": "markdown",
   "id": "9a681d0f",
   "metadata": {},
   "source": [
    "____\n",
    "\\- The most of the people have around 20 to 40 vmails\n",
    "_______"
   ]
  },
  {
   "cell_type": "code",
   "execution_count": 46,
   "id": "449d4817",
   "metadata": {},
   "outputs": [
    {
     "data": {
      "image/png": "[encoded data removed]",
      "text/plain": [
       "<Figure size 640x480 with 1 Axes>"
      ]
     },
     "metadata": {},
     "output_type": "display_data"
    }
   ],
   "source": [
    "# bivariate analysis\n",
    "\n",
    "sns.barplot(data = vmail_df, x = 'churn', y = 'number vmail messages', estimator = np.median);"
   ]
  },
  {
   "cell_type": "markdown",
   "id": "aae92167",
   "metadata": {},
   "source": [
    "_______\n",
    "\\- Voicemail plan status affects churn, but the number of voicemail messages doesn't seem important.\n",
    "_______\n",
    "\\- We should remove the column for number of voicemail messages.\n",
    "_______\n",
    "\\- We'll create models with and without this feature to decide if it's useful.\n",
    "_______"
   ]
  },
  {
   "cell_type": "markdown",
   "id": "59463bc0",
   "metadata": {},
   "source": [
    "**customer service calls**"
   ]
  },
  {
   "cell_type": "code",
   "execution_count": 47,
   "id": "62a5b7b5",
   "metadata": {
    "scrolled": false
   },
   "outputs": [
    {
     "data": {
      "image/png": "[encoded data removed]",
      "text/plain": [
       "<Figure size 640x480 with 1 Axes>"
      ]
     },
     "metadata": {},
     "output_type": "display_data"
    }
   ],
   "source": [
    "sns.barplot(data = df, x = 'churn', y = 'customer service calls', estimator = np.median);"
   ]
  },
  {
   "cell_type": "code",
   "execution_count": 48,
   "id": "e5dc0a86",
   "metadata": {},
   "outputs": [
    {
     "data": {
      "text/plain": [
       "697"
      ]
     },
     "execution_count": 48,
     "metadata": {},
     "output_type": "execute_result"
    }
   ],
   "source": [
    "df[df['customer service calls'] == 0].shape[0]"
   ]
  },
  {
   "cell_type": "code",
   "execution_count": 49,
   "id": "4e42fbd1",
   "metadata": {},
   "outputs": [
    {
     "data": {
      "text/plain": [
       "2636"
      ]
     },
     "execution_count": 49,
     "metadata": {},
     "output_type": "execute_result"
    }
   ],
   "source": [
    "df[df['customer service calls'] != 0].shape[0]"
   ]
  },
  {
   "cell_type": "markdown",
   "id": "26bcf076",
   "metadata": {},
   "source": [
    "______\n",
    "\\- Out of 3333 people 697 people have not spoken with customer care.\n",
    "_______"
   ]
  },
  {
   "cell_type": "code",
   "execution_count": 50,
   "id": "6882b8fd",
   "metadata": {},
   "outputs": [
    {
     "data": {
      "image/png": "[encoded data removed]",
      "text/plain": [
       "<Figure size 640x480 with 1 Axes>"
      ]
     },
     "metadata": {},
     "output_type": "display_data"
    }
   ],
   "source": [
    "sns.barplot(data = df[df['customer service calls'] != 0], \n",
    "            x = 'churn', y = 'customer service calls', estimator = np.median);"
   ]
  },
  {
   "cell_type": "markdown",
   "id": "081541c4",
   "metadata": {},
   "source": [
    "______\n",
    "\\- The people who had spoken with customer care, 50% of it still churn.\n",
    "_______\n",
    "\\- We can say that the people who contacting customer care are, their query is been satisfied only 50% of the time.\n",
    "_______"
   ]
  },
  {
   "cell_type": "code",
   "execution_count": 51,
   "id": "a6d16596",
   "metadata": {},
   "outputs": [
    {
     "data": {
      "image/png": "[encoded data removed]",
      "text/plain": [
       "<Figure size 640x480 with 1 Axes>"
      ]
     },
     "metadata": {},
     "output_type": "display_data"
    }
   ],
   "source": [
    "# Imbalanced dataset Treatment\n",
    "\n",
    "sns.countplot(x='churn', data = df);"
   ]
  },
  {
   "cell_type": "code",
   "execution_count": 52,
   "id": "6cba5c0d",
   "metadata": {},
   "outputs": [
    {
     "data": {
      "text/plain": [
       "False    2850\n",
       "True      483\n",
       "Name: churn, dtype: int64"
      ]
     },
     "execution_count": 52,
     "metadata": {},
     "output_type": "execute_result"
    }
   ],
   "source": [
    "df['churn'].value_counts()"
   ]
  },
  {
   "cell_type": "markdown",
   "id": "dd53ba16",
   "metadata": {},
   "source": [
    "_______\n",
    "\\- Dataset is heavily imbalanced.\n",
    "_______\n",
    "\\- Only around 483 entries of True\n",
    "_______"
   ]
  },
  {
   "cell_type": "code",
   "execution_count": 53,
   "id": "b3c2e6c3",
   "metadata": {},
   "outputs": [
    {
     "data": {
      "text/html": [
       "<div>\n",
       "<style scoped>\n",
       "    .dataframe tbody tr th:only-of-type {\n",
       "        vertical-align: middle;\n",
       "    }\n",
       "\n",
       "    .dataframe tbody tr th {\n",
       "        vertical-align: top;\n",
       "    }\n",
       "\n",
       "    .dataframe thead th {\n",
       "        text-align: right;\n",
       "    }\n",
       "</style>\n",
       "<table border=\"1\" class=\"dataframe\">\n",
       "  <thead>\n",
       "    <tr style=\"text-align: right;\">\n",
       "      <th></th>\n",
       "      <th>state</th>\n",
       "      <th>international plan</th>\n",
       "      <th>voice mail plan</th>\n",
       "      <th>number vmail messages</th>\n",
       "      <th>total day minutes</th>\n",
       "      <th>total day charge</th>\n",
       "      <th>total eve minutes</th>\n",
       "      <th>total eve charge</th>\n",
       "      <th>total night minutes</th>\n",
       "      <th>total night charge</th>\n",
       "      <th>total intl minutes</th>\n",
       "      <th>total intl calls</th>\n",
       "      <th>total intl charge</th>\n",
       "      <th>customer service calls</th>\n",
       "      <th>churn</th>\n",
       "    </tr>\n",
       "  </thead>\n",
       "  <tbody>\n",
       "    <tr>\n",
       "      <th>0</th>\n",
       "      <td>KS</td>\n",
       "      <td>no</td>\n",
       "      <td>yes</td>\n",
       "      <td>25</td>\n",
       "      <td>265.1</td>\n",
       "      <td>45.07</td>\n",
       "      <td>197.4</td>\n",
       "      <td>16.78</td>\n",
       "      <td>244.7</td>\n",
       "      <td>11.01</td>\n",
       "      <td>10.0</td>\n",
       "      <td>3</td>\n",
       "      <td>2.70</td>\n",
       "      <td>1</td>\n",
       "      <td>False</td>\n",
       "    </tr>\n",
       "    <tr>\n",
       "      <th>1</th>\n",
       "      <td>OH</td>\n",
       "      <td>no</td>\n",
       "      <td>yes</td>\n",
       "      <td>26</td>\n",
       "      <td>161.6</td>\n",
       "      <td>27.47</td>\n",
       "      <td>195.5</td>\n",
       "      <td>16.62</td>\n",
       "      <td>254.4</td>\n",
       "      <td>11.45</td>\n",
       "      <td>13.7</td>\n",
       "      <td>3</td>\n",
       "      <td>3.70</td>\n",
       "      <td>1</td>\n",
       "      <td>False</td>\n",
       "    </tr>\n",
       "    <tr>\n",
       "      <th>2</th>\n",
       "      <td>NJ</td>\n",
       "      <td>no</td>\n",
       "      <td>no</td>\n",
       "      <td>0</td>\n",
       "      <td>243.4</td>\n",
       "      <td>41.38</td>\n",
       "      <td>121.2</td>\n",
       "      <td>10.30</td>\n",
       "      <td>162.6</td>\n",
       "      <td>7.32</td>\n",
       "      <td>12.2</td>\n",
       "      <td>5</td>\n",
       "      <td>3.29</td>\n",
       "      <td>0</td>\n",
       "      <td>False</td>\n",
       "    </tr>\n",
       "    <tr>\n",
       "      <th>3</th>\n",
       "      <td>OH</td>\n",
       "      <td>yes</td>\n",
       "      <td>no</td>\n",
       "      <td>0</td>\n",
       "      <td>299.4</td>\n",
       "      <td>50.90</td>\n",
       "      <td>61.9</td>\n",
       "      <td>5.26</td>\n",
       "      <td>196.9</td>\n",
       "      <td>8.86</td>\n",
       "      <td>6.6</td>\n",
       "      <td>7</td>\n",
       "      <td>1.78</td>\n",
       "      <td>2</td>\n",
       "      <td>False</td>\n",
       "    </tr>\n",
       "    <tr>\n",
       "      <th>4</th>\n",
       "      <td>OK</td>\n",
       "      <td>yes</td>\n",
       "      <td>no</td>\n",
       "      <td>0</td>\n",
       "      <td>166.7</td>\n",
       "      <td>28.34</td>\n",
       "      <td>148.3</td>\n",
       "      <td>12.61</td>\n",
       "      <td>186.9</td>\n",
       "      <td>8.41</td>\n",
       "      <td>10.1</td>\n",
       "      <td>3</td>\n",
       "      <td>2.73</td>\n",
       "      <td>3</td>\n",
       "      <td>False</td>\n",
       "    </tr>\n",
       "  </tbody>\n",
       "</table>\n",
       "</div>"
      ],
      "text/plain": [
       "  state international plan voice mail plan  number vmail messages  \\\n",
       "0    KS                 no             yes                     25   \n",
       "1    OH                 no             yes                     26   \n",
       "2    NJ                 no              no                      0   \n",
       "3    OH                yes              no                      0   \n",
       "4    OK                yes              no                      0   \n",
       "\n",
       "   total day minutes  total day charge  total eve minutes  total eve charge  \\\n",
       "0              265.1             45.07              197.4             16.78   \n",
       "1              161.6             27.47              195.5             16.62   \n",
       "2              243.4             41.38              121.2             10.30   \n",
       "3              299.4             50.90               61.9              5.26   \n",
       "4              166.7             28.34              148.3             12.61   \n",
       "\n",
       "   total night minutes  total night charge  total intl minutes  \\\n",
       "0                244.7               11.01                10.0   \n",
       "1                254.4               11.45                13.7   \n",
       "2                162.6                7.32                12.2   \n",
       "3                196.9                8.86                 6.6   \n",
       "4                186.9                8.41                10.1   \n",
       "\n",
       "   total intl calls  total intl charge  customer service calls  churn  \n",
       "0                 3               2.70                       1  False  \n",
       "1                 3               3.70                       1  False  \n",
       "2                 5               3.29                       0  False  \n",
       "3                 7               1.78                       2  False  \n",
       "4                 3               2.73                       3  False  "
      ]
     },
     "execution_count": 53,
     "metadata": {},
     "output_type": "execute_result"
    }
   ],
   "source": [
    "df.head()"
   ]
  },
  {
   "cell_type": "markdown",
   "id": "65cadc92",
   "metadata": {},
   "source": [
    "_______\n",
    "\\- We are making a two new columns by summing up other columns\n",
    "______"
   ]
  },
  {
   "cell_type": "markdown",
   "id": "f98d13a6",
   "metadata": {},
   "source": [
    "**total minutes**"
   ]
  },
  {
   "cell_type": "code",
   "execution_count": 54,
   "id": "6bd0aabf",
   "metadata": {},
   "outputs": [],
   "source": [
    "df['total minutes'] = df['total day minutes'] + df['total eve minutes'] + df['total night minutes'] + df['total intl minutes']\n",
    "\n",
    "df.drop(columns = ['total day minutes', 'total eve minutes', 'total night minutes', 'total intl minutes'], inplace = True)"
   ]
  },
  {
   "cell_type": "markdown",
   "id": "e94288f1",
   "metadata": {},
   "source": [
    "**total charge**"
   ]
  },
  {
   "cell_type": "code",
   "execution_count": 55,
   "id": "4951d93c",
   "metadata": {},
   "outputs": [],
   "source": [
    "df['total charge'] = df['total day charge'] + df['total eve charge'] + df['total night charge'] + df['total intl charge']\n",
    "df.drop(columns = ['total day charge', 'total eve charge', 'total night charge', 'total intl charge'], inplace = True)"
   ]
  },
  {
   "cell_type": "code",
   "execution_count": 56,
   "id": "8a965efb",
   "metadata": {},
   "outputs": [
    {
     "data": {
      "text/html": [
       "<div>\n",
       "<style scoped>\n",
       "    .dataframe tbody tr th:only-of-type {\n",
       "        vertical-align: middle;\n",
       "    }\n",
       "\n",
       "    .dataframe tbody tr th {\n",
       "        vertical-align: top;\n",
       "    }\n",
       "\n",
       "    .dataframe thead th {\n",
       "        text-align: right;\n",
       "    }\n",
       "</style>\n",
       "<table border=\"1\" class=\"dataframe\">\n",
       "  <thead>\n",
       "    <tr style=\"text-align: right;\">\n",
       "      <th></th>\n",
       "      <th>state</th>\n",
       "      <th>international plan</th>\n",
       "      <th>voice mail plan</th>\n",
       "      <th>number vmail messages</th>\n",
       "      <th>total intl calls</th>\n",
       "      <th>customer service calls</th>\n",
       "      <th>churn</th>\n",
       "      <th>total minutes</th>\n",
       "      <th>total charge</th>\n",
       "    </tr>\n",
       "  </thead>\n",
       "  <tbody>\n",
       "    <tr>\n",
       "      <th>0</th>\n",
       "      <td>KS</td>\n",
       "      <td>no</td>\n",
       "      <td>yes</td>\n",
       "      <td>25</td>\n",
       "      <td>3</td>\n",
       "      <td>1</td>\n",
       "      <td>False</td>\n",
       "      <td>717.2</td>\n",
       "      <td>75.56</td>\n",
       "    </tr>\n",
       "    <tr>\n",
       "      <th>1</th>\n",
       "      <td>OH</td>\n",
       "      <td>no</td>\n",
       "      <td>yes</td>\n",
       "      <td>26</td>\n",
       "      <td>3</td>\n",
       "      <td>1</td>\n",
       "      <td>False</td>\n",
       "      <td>625.2</td>\n",
       "      <td>59.24</td>\n",
       "    </tr>\n",
       "    <tr>\n",
       "      <th>2</th>\n",
       "      <td>NJ</td>\n",
       "      <td>no</td>\n",
       "      <td>no</td>\n",
       "      <td>0</td>\n",
       "      <td>5</td>\n",
       "      <td>0</td>\n",
       "      <td>False</td>\n",
       "      <td>539.4</td>\n",
       "      <td>62.29</td>\n",
       "    </tr>\n",
       "    <tr>\n",
       "      <th>3</th>\n",
       "      <td>OH</td>\n",
       "      <td>yes</td>\n",
       "      <td>no</td>\n",
       "      <td>0</td>\n",
       "      <td>7</td>\n",
       "      <td>2</td>\n",
       "      <td>False</td>\n",
       "      <td>564.8</td>\n",
       "      <td>66.80</td>\n",
       "    </tr>\n",
       "    <tr>\n",
       "      <th>4</th>\n",
       "      <td>OK</td>\n",
       "      <td>yes</td>\n",
       "      <td>no</td>\n",
       "      <td>0</td>\n",
       "      <td>3</td>\n",
       "      <td>3</td>\n",
       "      <td>False</td>\n",
       "      <td>512.0</td>\n",
       "      <td>52.09</td>\n",
       "    </tr>\n",
       "  </tbody>\n",
       "</table>\n",
       "</div>"
      ],
      "text/plain": [
       "  state international plan voice mail plan  number vmail messages  \\\n",
       "0    KS                 no             yes                     25   \n",
       "1    OH                 no             yes                     26   \n",
       "2    NJ                 no              no                      0   \n",
       "3    OH                yes              no                      0   \n",
       "4    OK                yes              no                      0   \n",
       "\n",
       "   total intl calls  customer service calls  churn  total minutes  \\\n",
       "0                 3                       1  False          717.2   \n",
       "1                 3                       1  False          625.2   \n",
       "2                 5                       0  False          539.4   \n",
       "3                 7                       2  False          564.8   \n",
       "4                 3                       3  False          512.0   \n",
       "\n",
       "   total charge  \n",
       "0         75.56  \n",
       "1         59.24  \n",
       "2         62.29  \n",
       "3         66.80  \n",
       "4         52.09  "
      ]
     },
     "execution_count": 56,
     "metadata": {},
     "output_type": "execute_result"
    }
   ],
   "source": [
    "df.head()"
   ]
  },
  {
   "cell_type": "markdown",
   "id": "e8d00cc5",
   "metadata": {},
   "source": [
    "## Model Building & Evaluation"
   ]
  },
  {
   "cell_type": "code",
   "execution_count": 57,
   "id": "a3d424a7",
   "metadata": {},
   "outputs": [],
   "source": [
    "# splitting the data into X and y\n",
    "\n",
    "X = df.drop('churn', axis = 1)\n",
    "y = df['churn']"
   ]
  },
  {
   "cell_type": "code",
   "execution_count": 58,
   "id": "47ff4f1b",
   "metadata": {},
   "outputs": [],
   "source": [
    "# splitting the data into train and test sets\n",
    "\n",
    "from sklearn.model_selection import train_test_split\n",
    "X_train, X_test, y_train, y_test = train_test_split(X, y, test_size = 0.2, random_state = 42) "
   ]
  },
  {
   "cell_type": "code",
   "execution_count": 59,
   "id": "579be857",
   "metadata": {},
   "outputs": [],
   "source": [
    "from sklearn.preprocessing import OneHotEncoder\n",
    "\n",
    "# Encoding categorical variables\n",
    "ohe = OneHotEncoder(sparse_output = False, drop = 'first')  # drop ='first' to avoid multicollinearity\n",
    "\n",
    "columns = ['state', 'international plan', 'voice mail plan']\n",
    "\n",
    "X_train = ohe.fit_transform(X_train[columns].values)\n",
    "\n",
    "X_test = ohe.transform(X_test[columns].values)"
   ]
  },
  {
   "cell_type": "code",
   "execution_count": 60,
   "id": "bf2b8f34",
   "metadata": {},
   "outputs": [],
   "source": [
    "# label encoding 'churn' column using LabelEncoder\n",
    "\n",
    "from sklearn.preprocessing import LabelEncoder\n",
    "\n",
    "le = LabelEncoder()\n",
    "\n",
    "y_train = le.fit_transform(y_train)\n",
    "\n",
    "y_test = le.transform(y_test)"
   ]
  },
  {
   "cell_type": "code",
   "execution_count": 61,
   "id": "ff11f7bd",
   "metadata": {},
   "outputs": [],
   "source": [
    "# Selection of best working oversampler"
   ]
  },
  {
   "cell_type": "code",
   "execution_count": 62,
   "id": "d330312c",
   "metadata": {},
   "outputs": [],
   "source": [
    "from imblearn.over_sampling import (RandomOverSampler, SMOTE, ADASYN, BorderlineSMOTE, SVMSMOTE) \n",
    "from sklearn.metrics import classification_report, accuracy_score, confusion_matrix\n",
    "from sklearn.linear_model import LogisticRegression\n",
    "\n",
    "# List of oversampling techniques to evaluate  \n",
    "oversamplers = [RandomOverSampler(random_state = 42), SMOTE(random_state = 42), ADASYN(random_state = 42),\n",
    "                BorderlineSMOTE(random_state = 42), SVMSMOTE(random_state = 42)]\n",
    "\n",
    "def oversample_train_eval(over_sampler, X_train, y_train):\n",
    "    X_train, y_train = over_sampler.fit_resample(X_train, y_train)\n",
    "    model = LogisticRegression()\n",
    "    model.fit(X_train, y_train)\n",
    "    y_pred_test = model.predict(X_test) #  test prediction\n",
    "    print(f'{over_sampler.__class__.__name__} :\\n')\n",
    "    print('Classification Report:\\n\\n', classification_report(y_test, y_pred_test)) # confusion matrix\n",
    "    print('___'*20)"
   ]
  },
  {
   "cell_type": "code",
   "execution_count": 63,
   "id": "1a5c1bb2",
   "metadata": {},
   "outputs": [
    {
     "name": "stdout",
     "output_type": "stream",
     "text": [
      "RandomOverSampler :\n",
      "\n",
      "Classification Report:\n",
      "\n",
      "               precision    recall  f1-score   support\n",
      "\n",
      "           0       0.88      0.68      0.76       566\n",
      "           1       0.21      0.48      0.29       101\n",
      "\n",
      "    accuracy                           0.65       667\n",
      "   macro avg       0.54      0.58      0.53       667\n",
      "weighted avg       0.78      0.65      0.69       667\n",
      "\n",
      "____________________________________________________________\n",
      "SMOTE :\n",
      "\n",
      "Classification Report:\n",
      "\n",
      "               precision    recall  f1-score   support\n",
      "\n",
      "           0       0.88      0.67      0.76       566\n",
      "           1       0.21      0.50      0.29       101\n",
      "\n",
      "    accuracy                           0.64       667\n",
      "   macro avg       0.55      0.58      0.53       667\n",
      "weighted avg       0.78      0.64      0.69       667\n",
      "\n",
      "____________________________________________________________\n",
      "ADASYN :\n",
      "\n",
      "Classification Report:\n",
      "\n",
      "               precision    recall  f1-score   support\n",
      "\n",
      "           0       0.89      0.64      0.74       566\n",
      "           1       0.21      0.53      0.30       101\n",
      "\n",
      "    accuracy                           0.63       667\n",
      "   macro avg       0.55      0.59      0.52       667\n",
      "weighted avg       0.78      0.63      0.68       667\n",
      "\n",
      "____________________________________________________________\n",
      "BorderlineSMOTE :\n",
      "\n",
      "Classification Report:\n",
      "\n",
      "               precision    recall  f1-score   support\n",
      "\n",
      "           0       0.89      0.70      0.78       566\n",
      "           1       0.23      0.50      0.31       101\n",
      "\n",
      "    accuracy                           0.67       667\n",
      "   macro avg       0.56      0.60      0.55       667\n",
      "weighted avg       0.79      0.67      0.71       667\n",
      "\n",
      "____________________________________________________________\n",
      "SVMSMOTE :\n",
      "\n",
      "Classification Report:\n",
      "\n",
      "               precision    recall  f1-score   support\n",
      "\n",
      "           0       0.88      0.82      0.85       566\n",
      "           1       0.26      0.37      0.31       101\n",
      "\n",
      "    accuracy                           0.75       667\n",
      "   macro avg       0.57      0.59      0.58       667\n",
      "weighted avg       0.79      0.75      0.77       667\n",
      "\n",
      "____________________________________________________________\n"
     ]
    }
   ],
   "source": [
    "for over_sampler in oversamplers:\n",
    "    oversample_train_eval(over_sampler, X_train, y_train)"
   ]
  },
  {
   "cell_type": "markdown",
   "id": "56d52a87",
   "metadata": {},
   "source": [
    "\\- There is no diffrence between oversamplers, We can use any one.\n",
    "_________\n",
    "\\- We will proceed with SMOTE"
   ]
  },
  {
   "cell_type": "code",
   "execution_count": 64,
   "id": "a6401a77",
   "metadata": {},
   "outputs": [],
   "source": [
    "from imblearn.over_sampling import SMOTE\n",
    "smote = SMOTE()\n",
    "\n",
    "X_train, y_train = smote.fit_resample(X_train, y_train)"
   ]
  },
  {
   "cell_type": "code",
   "execution_count": 65,
   "id": "90f0a34b",
   "metadata": {},
   "outputs": [],
   "source": [
    "def train_eval_model(model):\n",
    "    \n",
    "    '''\n",
    "    This function train & Evaluate the given model\n",
    "    \n",
    "    '''\n",
    "    model.fit(X_train, y_train) # training\n",
    "    y_pred_test = model.predict(X_test) #  test prediction\n",
    "    y_pred_train = model.predict(X_train) #  training prediction\n",
    "    \n",
    "    print('\\n',type(model).__name__)\n",
    "    \n",
    "    print('=='*25)\n",
    "    print('\\nTraining Accuracy :', accuracy_score(y_train, y_pred_train)) # training accuracy\n",
    "    print('\\nTest Accuracy :', accuracy_score(y_test, y_pred_test)) # test accuracy\n",
    "    print('__'*25)\n",
    "    print('\\nConfusion Matrix:\\n\\n', confusion_matrix(y_test, y_pred_test)) # confusion matrix\n",
    "    print('__'*25)\n",
    "    print('\\nClassification Report: \\n')\n",
    "    \n",
    "    return  classification_report(y_test, y_pred_test) # classification report"
   ]
  },
  {
   "cell_type": "code",
   "execution_count": 66,
   "id": "bf6866a6",
   "metadata": {},
   "outputs": [],
   "source": [
    "from sklearn.model_selection import GridSearchCV\n",
    "\n",
    "def fine_tune(model, param_grid:dict, cv):\n",
    "    \n",
    "    '''\n",
    "    Function to apply Cross Validation & Hyper parameter Tunning\n",
    "    \n",
    "    '''\n",
    "    grid_search = GridSearchCV(estimator = model, param_grid = param_grid, cv = cv,\n",
    "                              n_jobs = -1, scoring = 'accuracy')\n",
    "    \n",
    "    grid_search.fit(X_train, y_train)\n",
    "    \n",
    "    print('Best Score: ',grid_search.best_score_)\n",
    "    \n",
    "    return f'Best Parameters : {grid_search.best_params_}' "
   ]
  },
  {
   "cell_type": "code",
   "execution_count": 67,
   "id": "65327c8d",
   "metadata": {},
   "outputs": [
    {
     "name": "stdout",
     "output_type": "stream",
     "text": [
      "\n",
      " LogisticRegression\n",
      "==================================================\n",
      "\n",
      "Training Accuracy : 0.6768826619964974\n",
      "\n",
      "Test Accuracy : 0.6431784107946027\n",
      "__________________________________________________\n",
      "\n",
      "Confusion Matrix:\n",
      "\n",
      " [[377 189]\n",
      " [ 49  52]]\n",
      "__________________________________________________\n",
      "\n",
      "Classification Report: \n",
      "\n",
      "              precision    recall  f1-score   support\n",
      "\n",
      "           0       0.88      0.67      0.76       566\n",
      "           1       0.22      0.51      0.30       101\n",
      "\n",
      "    accuracy                           0.64       667\n",
      "   macro avg       0.55      0.59      0.53       667\n",
      "weighted avg       0.78      0.64      0.69       667\n",
      "\n"
     ]
    }
   ],
   "source": [
    "# Logistic Regression\n",
    "\n",
    "from sklearn.linear_model import LogisticRegression\n",
    "log_reg = LogisticRegression()\n",
    "\n",
    "print(train_eval_model(log_reg))"
   ]
  },
  {
   "cell_type": "code",
   "execution_count": 68,
   "id": "3c91f3e0",
   "metadata": {},
   "outputs": [
    {
     "name": "stdout",
     "output_type": "stream",
     "text": [
      "Best Score:  0.6792921732443027\n",
      "Best Parameters : {'C': 100, 'fit_intercept': True, 'max_iter': 100, 'penalty': 'l2', 'solver': 'newton-cg', 'tol': 0.001}\n"
     ]
    }
   ],
   "source": [
    "log_param_grid = {  \n",
    "    'C': [0.001, 0.01, 0.1, 1, 10, 100],  \n",
    "    'penalty': ['l1','l2', 'elasticnet'],  \n",
    "    'solver': ['newton-cg', 'lbfgs', 'liblinear'],  \n",
    "    'max_iter': [100, 200, 300],  \n",
    "    'tol': [1e-4, 1e-3],  \n",
    "    'fit_intercept': [True, False]}\n",
    "\n",
    "print(fine_tune(log_reg, log_param_grid, 3))"
   ]
  },
  {
   "cell_type": "code",
   "execution_count": 69,
   "id": "cedccb92",
   "metadata": {},
   "outputs": [
    {
     "name": "stdout",
     "output_type": "stream",
     "text": [
      "\n",
      " KNeighborsClassifier\n",
      "==================================================\n",
      "\n",
      "Training Accuracy : 0.694614711033275\n",
      "\n",
      "Test Accuracy : 0.8260869565217391\n",
      "__________________________________________________\n",
      "\n",
      "Confusion Matrix:\n",
      "\n",
      " [[541  25]\n",
      " [ 91  10]]\n",
      "__________________________________________________\n",
      "\n",
      "Classification Report: \n",
      "\n",
      "              precision    recall  f1-score   support\n",
      "\n",
      "           0       0.86      0.96      0.90       566\n",
      "           1       0.29      0.10      0.15       101\n",
      "\n",
      "    accuracy                           0.83       667\n",
      "   macro avg       0.57      0.53      0.53       667\n",
      "weighted avg       0.77      0.83      0.79       667\n",
      "\n"
     ]
    }
   ],
   "source": [
    "# kNN\n",
    "\n",
    "from sklearn.neighbors import KNeighborsClassifier\n",
    "knn = KNeighborsClassifier()\n",
    "\n",
    "print(train_eval_model(knn))"
   ]
  },
  {
   "cell_type": "code",
   "execution_count": 70,
   "id": "2f4cd179",
   "metadata": {},
   "outputs": [
    {
     "name": "stdout",
     "output_type": "stream",
     "text": [
      "Best Score:  0.6690071840481288\n",
      "Best Parameters : {'algorithm': 'auto', 'leaf_size': 30, 'n_neighbors': 5, 'p': 2, 'weights': 'distance'}\n"
     ]
    }
   ],
   "source": [
    "knn_param_grid = { 'n_neighbors' : [5, 10, 15, 20], 'weights' : ['uniform','distance'],\n",
    "                  'algorithm' : ['auto', 'ball_tree', 'kd_tree', 'brute'],\n",
    "                  'leaf_size' : [30, 40, 50],\n",
    "                  'p' : [1, 2]}\n",
    "\n",
    "print(fine_tune(knn, knn_param_grid, 3))"
   ]
  },
  {
   "cell_type": "code",
   "execution_count": 71,
   "id": "0deff1cc",
   "metadata": {},
   "outputs": [
    {
     "name": "stdout",
     "output_type": "stream",
     "text": [
      "\n",
      " DecisionTreeClassifier\n",
      "==================================================\n",
      "\n",
      "Training Accuracy : 0.773861646234676\n",
      "\n",
      "Test Accuracy : 0.7001499250374813\n",
      "__________________________________________________\n",
      "\n",
      "Confusion Matrix:\n",
      "\n",
      " [[434 132]\n",
      " [ 68  33]]\n",
      "__________________________________________________\n",
      "\n",
      "Classification Report: \n",
      "\n",
      "              precision    recall  f1-score   support\n",
      "\n",
      "           0       0.86      0.77      0.81       566\n",
      "           1       0.20      0.33      0.25       101\n",
      "\n",
      "    accuracy                           0.70       667\n",
      "   macro avg       0.53      0.55      0.53       667\n",
      "weighted avg       0.76      0.70      0.73       667\n",
      "\n"
     ]
    }
   ],
   "source": [
    "# Decision Tree\n",
    "\n",
    "from sklearn.tree import DecisionTreeClassifier\n",
    "dtc = DecisionTreeClassifier()\n",
    "\n",
    "print(train_eval_model(dtc))"
   ]
  },
  {
   "cell_type": "code",
   "execution_count": 72,
   "id": "6c95c9e8",
   "metadata": {},
   "outputs": [
    {
     "name": "stdout",
     "output_type": "stream",
     "text": [
      "Best Score:  0.7467203852506565\n",
      "Best Parameters : {'ccp_alpha': 0.0, 'criterion': 'gini', 'max_depth': None, 'max_features': None, 'max_leaf_nodes': None, 'min_impurity_decrease': 0.0, 'min_samples_leaf': 2, 'min_samples_split': 2, 'min_weight_fraction_leaf': 0.0, 'splitter': 'best'}\n"
     ]
    }
   ],
   "source": [
    "dtc_param_grid = {   \n",
    "    'criterion': [\"gini\", \"entropy\", \"log_loss\"],   \n",
    "    'splitter': [\"best\", \"random\"],  \n",
    "    'max_depth': [5, 10, None],   \n",
    "    'min_samples_split': [2, 4],  \n",
    "    'min_samples_leaf': [1, 2, 3],   \n",
    "    'min_weight_fraction_leaf': [0.0, 0.2, 0.4],  \n",
    "    'max_features': [2, 3, None],   \n",
    "    'max_leaf_nodes': [10, 15, None],  \n",
    "    'min_impurity_decrease': [0.0, 0.2],\n",
    "    'ccp_alpha': [0.0, 0.02]}\n",
    "\n",
    "print(fine_tune(dtc, dtc_param_grid, 3))"
   ]
  },
  {
   "cell_type": "code",
   "execution_count": 73,
   "id": "feb0e7f0",
   "metadata": {},
   "outputs": [
    {
     "name": "stdout",
     "output_type": "stream",
     "text": [
      "\n",
      " GaussianNB\n",
      "==================================================\n",
      "\n",
      "Training Accuracy : 0.6274080560420315\n",
      "\n",
      "Test Accuracy : 0.4782608695652174\n",
      "__________________________________________________\n",
      "\n",
      "Confusion Matrix:\n",
      "\n",
      " [[253 313]\n",
      " [ 35  66]]\n",
      "__________________________________________________\n",
      "\n",
      "Classification Report: \n",
      "\n",
      "              precision    recall  f1-score   support\n",
      "\n",
      "           0       0.88      0.45      0.59       566\n",
      "           1       0.17      0.65      0.28       101\n",
      "\n",
      "    accuracy                           0.48       667\n",
      "   macro avg       0.53      0.55      0.43       667\n",
      "weighted avg       0.77      0.48      0.54       667\n",
      "\n"
     ]
    }
   ],
   "source": [
    "# Gaussian Naive Bayes\n",
    "\n",
    "from sklearn.naive_bayes import GaussianNB\n",
    "nbc = GaussianNB()\n",
    "\n",
    "print(train_eval_model(nbc))"
   ]
  },
  {
   "cell_type": "code",
   "execution_count": 74,
   "id": "3727946e",
   "metadata": {},
   "outputs": [
    {
     "name": "stdout",
     "output_type": "stream",
     "text": [
      "\n",
      " CategoricalNB\n",
      "==================================================\n",
      "\n",
      "Training Accuracy : 0.6924255691768827\n",
      "\n",
      "Test Accuracy : 0.5937031484257871\n",
      "__________________________________________________\n",
      "\n",
      "Confusion Matrix:\n",
      "\n",
      " [[336 230]\n",
      " [ 41  60]]\n",
      "__________________________________________________\n",
      "\n",
      "Classification Report: \n",
      "\n",
      "              precision    recall  f1-score   support\n",
      "\n",
      "           0       0.89      0.59      0.71       566\n",
      "           1       0.21      0.59      0.31       101\n",
      "\n",
      "    accuracy                           0.59       667\n",
      "   macro avg       0.55      0.59      0.51       667\n",
      "weighted avg       0.79      0.59      0.65       667\n",
      "\n"
     ]
    }
   ],
   "source": [
    "# Categorical Naive Bayes\n",
    "\n",
    "from sklearn.naive_bayes import CategoricalNB\n",
    "cnb = CategoricalNB()\n",
    "\n",
    "print(train_eval_model(cnb))"
   ]
  },
  {
   "cell_type": "code",
   "execution_count": 75,
   "id": "3ec9d09f",
   "metadata": {},
   "outputs": [
    {
     "name": "stdout",
     "output_type": "stream",
     "text": [
      "\n",
      " RandomForestClassifier\n",
      "==================================================\n",
      "\n",
      "Training Accuracy : 0.773861646234676\n",
      "\n",
      "Test Accuracy : 0.7001499250374813\n",
      "__________________________________________________\n",
      "\n",
      "Confusion Matrix:\n",
      "\n",
      " [[433 133]\n",
      " [ 67  34]]\n",
      "__________________________________________________\n",
      "\n",
      "Classification Report: \n",
      "\n",
      "              precision    recall  f1-score   support\n",
      "\n",
      "           0       0.87      0.77      0.81       566\n",
      "           1       0.20      0.34      0.25       101\n",
      "\n",
      "    accuracy                           0.70       667\n",
      "   macro avg       0.53      0.55      0.53       667\n",
      "weighted avg       0.77      0.70      0.73       667\n",
      "\n"
     ]
    }
   ],
   "source": [
    "# Randon Forest\n",
    "\n",
    "from sklearn.ensemble import RandomForestClassifier\n",
    "rfc = RandomForestClassifier(n_estimators = 500)\n",
    "\n",
    "print(train_eval_model(rfc))"
   ]
  },
  {
   "cell_type": "code",
   "execution_count": 76,
   "id": "0fe1f2af",
   "metadata": {},
   "outputs": [
    {
     "name": "stdout",
     "output_type": "stream",
     "text": [
      "Best Score:  0.7471578301925592\n",
      "Best Parameters : {'bootstrap': False, 'criterion': 'entropy', 'max_depth': None, 'max_features': None, 'min_samples_leaf': 2, 'min_samples_split': 2, 'n_estimators': 10, 'oob_score': False}\n"
     ]
    }
   ],
   "source": [
    "rfc_param_grid = {  \n",
    "    'n_estimators': [10, 50, 100],  \n",
    "    'criterion': ['gini', 'entropy'],    \n",
    "    'max_depth': [None, 10, 20],  \n",
    "    'min_samples_split': [2, 5],  \n",
    "    'min_samples_leaf': [1, 2],  #\n",
    "    'max_features': ['auto', 'sqrt', 'log2', None],  \n",
    "    'bootstrap': [True, False],   \n",
    "    'oob_score': [True, False] }\n",
    "\n",
    "print(fine_tune(rfc, rfc_param_grid, 3))"
   ]
  },
  {
   "cell_type": "code",
   "execution_count": 77,
   "id": "564379c3",
   "metadata": {},
   "outputs": [
    {
     "name": "stdout",
     "output_type": "stream",
     "text": [
      "\n",
      " XGBClassifier\n",
      "==================================================\n",
      "\n",
      "Training Accuracy : 0.7631348511383538\n",
      "\n",
      "Test Accuracy : 0.671664167916042\n",
      "__________________________________________________\n",
      "\n",
      "Confusion Matrix:\n",
      "\n",
      " [[408 158]\n",
      " [ 61  40]]\n",
      "__________________________________________________\n",
      "\n",
      "Classification Report: \n",
      "\n",
      "              precision    recall  f1-score   support\n",
      "\n",
      "           0       0.87      0.72      0.79       566\n",
      "           1       0.20      0.40      0.27       101\n",
      "\n",
      "    accuracy                           0.67       667\n",
      "   macro avg       0.54      0.56      0.53       667\n",
      "weighted avg       0.77      0.67      0.71       667\n",
      "\n"
     ]
    }
   ],
   "source": [
    "# XG Boost\n",
    "\n",
    "from xgboost import XGBClassifier\n",
    "xgb = XGBClassifier()\n",
    "\n",
    "print(train_eval_model(xgb))"
   ]
  },
  {
   "cell_type": "code",
   "execution_count": 79,
   "id": "79028205",
   "metadata": {},
   "outputs": [
    {
     "name": "stdout",
     "output_type": "stream",
     "text": [
      "Best Score:  0.7138800906181145\n",
      "Best Parameters : {'gamma': 0, 'learning_rate': 0.05, 'max_depth': 5, 'min_child_weight': 10, 'n_estimators': 100, 'objective': 'binary:logistic', 'subsample': 0.8}\n"
     ]
    }
   ],
   "source": [
    "xgb_param_grid = {  \n",
    "    'n_estimators': [50, 100],  \n",
    "    'max_depth': [3, 4, 5], \n",
    "    'learning_rate': [0.01, 0.05,],    \n",
    "    'subsample': [0.6, 0.8, 1.0],    \n",
    "    'min_child_weight': [1, 5, 10],  \n",
    "    'gamma': [0, 0.1, 0.2, 0.3],   \n",
    "    'objective': ['binary:logistic']}  \n",
    "\n",
    "print(fine_tune(xgb, xgb_param_grid, 3))"
   ]
  },
  {
   "cell_type": "markdown",
   "id": "05d7fcba",
   "metadata": {},
   "source": [
    "\n",
    "\\- From above various ml model we can see that xg-boost and random forest giving better result\n",
    "_____________\n",
    "\\- We can use either of this model, for prediction."
   ]
  },
  {
   "cell_type": "code",
   "execution_count": 80,
   "id": "d5e8a54b",
   "metadata": {},
   "outputs": [],
   "source": [
    "## Pipeline"
   ]
  }
 ],
 "metadata": {
  "kernelspec": {
   "display_name": "Python 3 (ipykernel)",
   "language": "python",
   "name": "python3"
  },
  "language_info": {
   "codemirror_mode": {
    "name": "ipython",
    "version": 3
   },
   "file_extension": ".py",
   "mimetype": "text/x-python",
   "name": "python",
   "nbconvert_exporter": "python",
   "pygments_lexer": "ipython3",
   "version": "3.11.5"
  }
 },
 "nbformat": 4,
 "nbformat_minor": 5
}
